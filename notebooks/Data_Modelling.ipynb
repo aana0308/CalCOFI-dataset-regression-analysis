{
  "nbformat": 4,
  "nbformat_minor": 0,
  "metadata": {
    "colab": {
      "name": "Data Modelling.ipynb",
      "provenance": [],
      "collapsed_sections": []
    },
    "kernelspec": {
      "name": "python3",
      "display_name": "Python 3"
    },
    "language_info": {
      "name": "python"
    }
  },
  "cells": [
    {
      "cell_type": "markdown",
      "source": [
        "#Data Modelling#"
      ],
      "metadata": {
        "id": "C6tmLnz52vy3"
      }
    },
    {
      "cell_type": "markdown",
      "source": [
        "Import the required Python libraries"
      ],
      "metadata": {
        "id": "Xwb7FEfN231e"
      }
    },
    {
      "cell_type": "code",
      "source": [
        "import numpy as np\n",
        "import pandas as pd\n",
        "import matplotlib.pyplot as plt\n",
        "from sklearn.linear_model import LinearRegression\n",
        "from sklearn.preprocessing import PolynomialFeatures\n",
        "from sklearn.metrics import mean_squared_error\n",
        "from sklearn.model_selection import train_test_split\n",
        "from sklearn.metrics import r2_score\n",
        "from scipy import stats\n",
        "import math"
      ],
      "metadata": {
        "id": "4Zpjk7Ae2zf-"
      },
      "execution_count": null,
      "outputs": []
    },
    {
      "cell_type": "markdown",
      "source": [
        "Mount drive"
      ],
      "metadata": {
        "id": "yOg2Rx5G9QRT"
      }
    },
    {
      "cell_type": "code",
      "source": [
        "from google.colab import drive\n",
        "drive.mount('/content/drive')"
      ],
      "metadata": {
        "colab": {
          "base_uri": "https://localhost:8080/"
        },
        "id": "qstPH6gu9SI-",
        "outputId": "dc9d5387-5232-4896-f507-de2bc45630cf"
      },
      "execution_count": null,
      "outputs": [
        {
          "output_type": "stream",
          "name": "stdout",
          "text": [
            "Drive already mounted at /content/drive; to attempt to forcibly remount, call drive.mount(\"/content/drive\", force_remount=True).\n"
          ]
        }
      ]
    },
    {
      "cell_type": "markdown",
      "source": [
        "Load final_dataset which was obtained from data cleaning"
      ],
      "metadata": {
        "id": "Yq5XSuDJ3P01"
      }
    },
    {
      "cell_type": "code",
      "metadata": {
        "colab": {
          "base_uri": "https://localhost:8080/",
          "height": 423
        },
        "outputId": "20a8c175-6b8e-4e54-b1fa-478855efc860",
        "id": "fJAy_Raj4FEy"
      },
      "source": [
        "final_dataset=pd.read_csv('/content/drive/MyDrive/Data Analytics Club/CALCOFI regression analysis/final_dataset.csv')\n",
        "final_dataset"
      ],
      "execution_count": null,
      "outputs": [
        {
          "output_type": "execute_result",
          "data": {
            "text/html": [
              "\n",
              "  <div id=\"df-ae624422-8445-471c-8b52-f5a2a49527b8\">\n",
              "    <div class=\"colab-df-container\">\n",
              "      <div>\n",
              "<style scoped>\n",
              "    .dataframe tbody tr th:only-of-type {\n",
              "        vertical-align: middle;\n",
              "    }\n",
              "\n",
              "    .dataframe tbody tr th {\n",
              "        vertical-align: top;\n",
              "    }\n",
              "\n",
              "    .dataframe thead th {\n",
              "        text-align: right;\n",
              "    }\n",
              "</style>\n",
              "<table border=\"1\" class=\"dataframe\">\n",
              "  <thead>\n",
              "    <tr style=\"text-align: right;\">\n",
              "      <th></th>\n",
              "      <th>Unnamed: 0</th>\n",
              "      <th>Salinity</th>\n",
              "      <th>Temperature</th>\n",
              "    </tr>\n",
              "  </thead>\n",
              "  <tbody>\n",
              "    <tr>\n",
              "      <th>0</th>\n",
              "      <td>0</td>\n",
              "      <td>0.001095</td>\n",
              "      <td>0.000999</td>\n",
              "    </tr>\n",
              "    <tr>\n",
              "      <th>1</th>\n",
              "      <td>1</td>\n",
              "      <td>0.001095</td>\n",
              "      <td>0.000995</td>\n",
              "    </tr>\n",
              "    <tr>\n",
              "      <th>2</th>\n",
              "      <td>2</td>\n",
              "      <td>0.001095</td>\n",
              "      <td>0.000995</td>\n",
              "    </tr>\n",
              "    <tr>\n",
              "      <th>3</th>\n",
              "      <td>3</td>\n",
              "      <td>0.001094</td>\n",
              "      <td>0.000994</td>\n",
              "    </tr>\n",
              "    <tr>\n",
              "      <th>4</th>\n",
              "      <td>4</td>\n",
              "      <td>0.001094</td>\n",
              "      <td>0.000994</td>\n",
              "    </tr>\n",
              "    <tr>\n",
              "      <th>...</th>\n",
              "      <td>...</td>\n",
              "      <td>...</td>\n",
              "      <td>...</td>\n",
              "    </tr>\n",
              "    <tr>\n",
              "      <th>814242</th>\n",
              "      <td>814242</td>\n",
              "      <td>0.001094</td>\n",
              "      <td>0.001783</td>\n",
              "    </tr>\n",
              "    <tr>\n",
              "      <th>814243</th>\n",
              "      <td>814243</td>\n",
              "      <td>0.001094</td>\n",
              "      <td>0.001783</td>\n",
              "    </tr>\n",
              "    <tr>\n",
              "      <th>814244</th>\n",
              "      <td>814244</td>\n",
              "      <td>0.001094</td>\n",
              "      <td>0.001778</td>\n",
              "    </tr>\n",
              "    <tr>\n",
              "      <th>814245</th>\n",
              "      <td>814245</td>\n",
              "      <td>0.001094</td>\n",
              "      <td>0.001727</td>\n",
              "    </tr>\n",
              "    <tr>\n",
              "      <th>814246</th>\n",
              "      <td>814246</td>\n",
              "      <td>0.001093</td>\n",
              "      <td>0.001667</td>\n",
              "    </tr>\n",
              "  </tbody>\n",
              "</table>\n",
              "<p>814247 rows × 3 columns</p>\n",
              "</div>\n",
              "      <button class=\"colab-df-convert\" onclick=\"convertToInteractive('df-ae624422-8445-471c-8b52-f5a2a49527b8')\"\n",
              "              title=\"Convert this dataframe to an interactive table.\"\n",
              "              style=\"display:none;\">\n",
              "        \n",
              "  <svg xmlns=\"http://www.w3.org/2000/svg\" height=\"24px\"viewBox=\"0 0 24 24\"\n",
              "       width=\"24px\">\n",
              "    <path d=\"M0 0h24v24H0V0z\" fill=\"none\"/>\n",
              "    <path d=\"M18.56 5.44l.94 2.06.94-2.06 2.06-.94-2.06-.94-.94-2.06-.94 2.06-2.06.94zm-11 1L8.5 8.5l.94-2.06 2.06-.94-2.06-.94L8.5 2.5l-.94 2.06-2.06.94zm10 10l.94 2.06.94-2.06 2.06-.94-2.06-.94-.94-2.06-.94 2.06-2.06.94z\"/><path d=\"M17.41 7.96l-1.37-1.37c-.4-.4-.92-.59-1.43-.59-.52 0-1.04.2-1.43.59L10.3 9.45l-7.72 7.72c-.78.78-.78 2.05 0 2.83L4 21.41c.39.39.9.59 1.41.59.51 0 1.02-.2 1.41-.59l7.78-7.78 2.81-2.81c.8-.78.8-2.07 0-2.86zM5.41 20L4 18.59l7.72-7.72 1.47 1.35L5.41 20z\"/>\n",
              "  </svg>\n",
              "      </button>\n",
              "      \n",
              "  <style>\n",
              "    .colab-df-container {\n",
              "      display:flex;\n",
              "      flex-wrap:wrap;\n",
              "      gap: 12px;\n",
              "    }\n",
              "\n",
              "    .colab-df-convert {\n",
              "      background-color: #E8F0FE;\n",
              "      border: none;\n",
              "      border-radius: 50%;\n",
              "      cursor: pointer;\n",
              "      display: none;\n",
              "      fill: #1967D2;\n",
              "      height: 32px;\n",
              "      padding: 0 0 0 0;\n",
              "      width: 32px;\n",
              "    }\n",
              "\n",
              "    .colab-df-convert:hover {\n",
              "      background-color: #E2EBFA;\n",
              "      box-shadow: 0px 1px 2px rgba(60, 64, 67, 0.3), 0px 1px 3px 1px rgba(60, 64, 67, 0.15);\n",
              "      fill: #174EA6;\n",
              "    }\n",
              "\n",
              "    [theme=dark] .colab-df-convert {\n",
              "      background-color: #3B4455;\n",
              "      fill: #D2E3FC;\n",
              "    }\n",
              "\n",
              "    [theme=dark] .colab-df-convert:hover {\n",
              "      background-color: #434B5C;\n",
              "      box-shadow: 0px 1px 3px 1px rgba(0, 0, 0, 0.15);\n",
              "      filter: drop-shadow(0px 1px 2px rgba(0, 0, 0, 0.3));\n",
              "      fill: #FFFFFF;\n",
              "    }\n",
              "  </style>\n",
              "\n",
              "      <script>\n",
              "        const buttonEl =\n",
              "          document.querySelector('#df-ae624422-8445-471c-8b52-f5a2a49527b8 button.colab-df-convert');\n",
              "        buttonEl.style.display =\n",
              "          google.colab.kernel.accessAllowed ? 'block' : 'none';\n",
              "\n",
              "        async function convertToInteractive(key) {\n",
              "          const element = document.querySelector('#df-ae624422-8445-471c-8b52-f5a2a49527b8');\n",
              "          const dataTable =\n",
              "            await google.colab.kernel.invokeFunction('convertToInteractive',\n",
              "                                                     [key], {});\n",
              "          if (!dataTable) return;\n",
              "\n",
              "          const docLinkHtml = 'Like what you see? Visit the ' +\n",
              "            '<a target=\"_blank\" href=https://colab.research.google.com/notebooks/data_table.ipynb>data table notebook</a>'\n",
              "            + ' to learn more about interactive tables.';\n",
              "          element.innerHTML = '';\n",
              "          dataTable['output_type'] = 'display_data';\n",
              "          await google.colab.output.renderOutput(dataTable, element);\n",
              "          const docLink = document.createElement('div');\n",
              "          docLink.innerHTML = docLinkHtml;\n",
              "          element.appendChild(docLink);\n",
              "        }\n",
              "      </script>\n",
              "    </div>\n",
              "  </div>\n",
              "  "
            ],
            "text/plain": [
              "        Unnamed: 0  Salinity  Temperature\n",
              "0                0  0.001095     0.000999\n",
              "1                1  0.001095     0.000995\n",
              "2                2  0.001095     0.000995\n",
              "3                3  0.001094     0.000994\n",
              "4                4  0.001094     0.000994\n",
              "...            ...       ...          ...\n",
              "814242      814242  0.001094     0.001783\n",
              "814243      814243  0.001094     0.001783\n",
              "814244      814244  0.001094     0.001778\n",
              "814245      814245  0.001094     0.001727\n",
              "814246      814246  0.001093     0.001667\n",
              "\n",
              "[814247 rows x 3 columns]"
            ]
          },
          "metadata": {},
          "execution_count": 98
        }
      ]
    },
    {
      "cell_type": "markdown",
      "source": [
        "Choose sample of data for better accuracy score"
      ],
      "metadata": {
        "id": "7YI7V_JsGnYk"
      }
    },
    {
      "cell_type": "code",
      "source": [
        "final_dataset = final_dataset.sample(5000)\n",
        "final_dataset"
      ],
      "metadata": {
        "colab": {
          "base_uri": "https://localhost:8080/",
          "height": 423
        },
        "id": "SiaqONXUGsmn",
        "outputId": "16704ae6-68e1-49ce-e542-3b4bd6abc9ce"
      },
      "execution_count": null,
      "outputs": [
        {
          "output_type": "execute_result",
          "data": {
            "text/html": [
              "\n",
              "  <div id=\"df-bf841103-3965-4ac3-8843-9159039707a3\">\n",
              "    <div class=\"colab-df-container\">\n",
              "      <div>\n",
              "<style scoped>\n",
              "    .dataframe tbody tr th:only-of-type {\n",
              "        vertical-align: middle;\n",
              "    }\n",
              "\n",
              "    .dataframe tbody tr th {\n",
              "        vertical-align: top;\n",
              "    }\n",
              "\n",
              "    .dataframe thead th {\n",
              "        text-align: right;\n",
              "    }\n",
              "</style>\n",
              "<table border=\"1\" class=\"dataframe\">\n",
              "  <thead>\n",
              "    <tr style=\"text-align: right;\">\n",
              "      <th></th>\n",
              "      <th>Unnamed: 0</th>\n",
              "      <th>Salinity</th>\n",
              "      <th>Temperature</th>\n",
              "    </tr>\n",
              "  </thead>\n",
              "  <tbody>\n",
              "    <tr>\n",
              "      <th>657839</th>\n",
              "      <td>657839</td>\n",
              "      <td>0.001122</td>\n",
              "      <td>0.000618</td>\n",
              "    </tr>\n",
              "    <tr>\n",
              "      <th>36284</th>\n",
              "      <td>36284</td>\n",
              "      <td>0.001097</td>\n",
              "      <td>0.001382</td>\n",
              "    </tr>\n",
              "    <tr>\n",
              "      <th>252808</th>\n",
              "      <td>252808</td>\n",
              "      <td>0.001115</td>\n",
              "      <td>0.001766</td>\n",
              "    </tr>\n",
              "    <tr>\n",
              "      <th>593180</th>\n",
              "      <td>593180</td>\n",
              "      <td>0.001095</td>\n",
              "      <td>0.001311</td>\n",
              "    </tr>\n",
              "    <tr>\n",
              "      <th>534786</th>\n",
              "      <td>534786</td>\n",
              "      <td>0.001093</td>\n",
              "      <td>0.001717</td>\n",
              "    </tr>\n",
              "    <tr>\n",
              "      <th>...</th>\n",
              "      <td>...</td>\n",
              "      <td>...</td>\n",
              "      <td>...</td>\n",
              "    </tr>\n",
              "    <tr>\n",
              "      <th>593849</th>\n",
              "      <td>593849</td>\n",
              "      <td>0.001116</td>\n",
              "      <td>0.000987</td>\n",
              "    </tr>\n",
              "    <tr>\n",
              "      <th>727924</th>\n",
              "      <td>727924</td>\n",
              "      <td>0.001094</td>\n",
              "      <td>0.001105</td>\n",
              "    </tr>\n",
              "    <tr>\n",
              "      <th>542058</th>\n",
              "      <td>542058</td>\n",
              "      <td>0.001098</td>\n",
              "      <td>0.001639</td>\n",
              "    </tr>\n",
              "    <tr>\n",
              "      <th>741536</th>\n",
              "      <td>741536</td>\n",
              "      <td>0.001121</td>\n",
              "      <td>0.000779</td>\n",
              "    </tr>\n",
              "    <tr>\n",
              "      <th>317210</th>\n",
              "      <td>317210</td>\n",
              "      <td>0.001109</td>\n",
              "      <td>0.001573</td>\n",
              "    </tr>\n",
              "  </tbody>\n",
              "</table>\n",
              "<p>5000 rows × 3 columns</p>\n",
              "</div>\n",
              "      <button class=\"colab-df-convert\" onclick=\"convertToInteractive('df-bf841103-3965-4ac3-8843-9159039707a3')\"\n",
              "              title=\"Convert this dataframe to an interactive table.\"\n",
              "              style=\"display:none;\">\n",
              "        \n",
              "  <svg xmlns=\"http://www.w3.org/2000/svg\" height=\"24px\"viewBox=\"0 0 24 24\"\n",
              "       width=\"24px\">\n",
              "    <path d=\"M0 0h24v24H0V0z\" fill=\"none\"/>\n",
              "    <path d=\"M18.56 5.44l.94 2.06.94-2.06 2.06-.94-2.06-.94-.94-2.06-.94 2.06-2.06.94zm-11 1L8.5 8.5l.94-2.06 2.06-.94-2.06-.94L8.5 2.5l-.94 2.06-2.06.94zm10 10l.94 2.06.94-2.06 2.06-.94-2.06-.94-.94-2.06-.94 2.06-2.06.94z\"/><path d=\"M17.41 7.96l-1.37-1.37c-.4-.4-.92-.59-1.43-.59-.52 0-1.04.2-1.43.59L10.3 9.45l-7.72 7.72c-.78.78-.78 2.05 0 2.83L4 21.41c.39.39.9.59 1.41.59.51 0 1.02-.2 1.41-.59l7.78-7.78 2.81-2.81c.8-.78.8-2.07 0-2.86zM5.41 20L4 18.59l7.72-7.72 1.47 1.35L5.41 20z\"/>\n",
              "  </svg>\n",
              "      </button>\n",
              "      \n",
              "  <style>\n",
              "    .colab-df-container {\n",
              "      display:flex;\n",
              "      flex-wrap:wrap;\n",
              "      gap: 12px;\n",
              "    }\n",
              "\n",
              "    .colab-df-convert {\n",
              "      background-color: #E8F0FE;\n",
              "      border: none;\n",
              "      border-radius: 50%;\n",
              "      cursor: pointer;\n",
              "      display: none;\n",
              "      fill: #1967D2;\n",
              "      height: 32px;\n",
              "      padding: 0 0 0 0;\n",
              "      width: 32px;\n",
              "    }\n",
              "\n",
              "    .colab-df-convert:hover {\n",
              "      background-color: #E2EBFA;\n",
              "      box-shadow: 0px 1px 2px rgba(60, 64, 67, 0.3), 0px 1px 3px 1px rgba(60, 64, 67, 0.15);\n",
              "      fill: #174EA6;\n",
              "    }\n",
              "\n",
              "    [theme=dark] .colab-df-convert {\n",
              "      background-color: #3B4455;\n",
              "      fill: #D2E3FC;\n",
              "    }\n",
              "\n",
              "    [theme=dark] .colab-df-convert:hover {\n",
              "      background-color: #434B5C;\n",
              "      box-shadow: 0px 1px 3px 1px rgba(0, 0, 0, 0.15);\n",
              "      filter: drop-shadow(0px 1px 2px rgba(0, 0, 0, 0.3));\n",
              "      fill: #FFFFFF;\n",
              "    }\n",
              "  </style>\n",
              "\n",
              "      <script>\n",
              "        const buttonEl =\n",
              "          document.querySelector('#df-bf841103-3965-4ac3-8843-9159039707a3 button.colab-df-convert');\n",
              "        buttonEl.style.display =\n",
              "          google.colab.kernel.accessAllowed ? 'block' : 'none';\n",
              "\n",
              "        async function convertToInteractive(key) {\n",
              "          const element = document.querySelector('#df-bf841103-3965-4ac3-8843-9159039707a3');\n",
              "          const dataTable =\n",
              "            await google.colab.kernel.invokeFunction('convertToInteractive',\n",
              "                                                     [key], {});\n",
              "          if (!dataTable) return;\n",
              "\n",
              "          const docLinkHtml = 'Like what you see? Visit the ' +\n",
              "            '<a target=\"_blank\" href=https://colab.research.google.com/notebooks/data_table.ipynb>data table notebook</a>'\n",
              "            + ' to learn more about interactive tables.';\n",
              "          element.innerHTML = '';\n",
              "          dataTable['output_type'] = 'display_data';\n",
              "          await google.colab.output.renderOutput(dataTable, element);\n",
              "          const docLink = document.createElement('div');\n",
              "          docLink.innerHTML = docLinkHtml;\n",
              "          element.appendChild(docLink);\n",
              "        }\n",
              "      </script>\n",
              "    </div>\n",
              "  </div>\n",
              "  "
            ],
            "text/plain": [
              "        Unnamed: 0  Salinity  Temperature\n",
              "657839      657839  0.001122     0.000618\n",
              "36284        36284  0.001097     0.001382\n",
              "252808      252808  0.001115     0.001766\n",
              "593180      593180  0.001095     0.001311\n",
              "534786      534786  0.001093     0.001717\n",
              "...            ...       ...          ...\n",
              "593849      593849  0.001116     0.000987\n",
              "727924      727924  0.001094     0.001105\n",
              "542058      542058  0.001098     0.001639\n",
              "741536      741536  0.001121     0.000779\n",
              "317210      317210  0.001109     0.001573\n",
              "\n",
              "[5000 rows x 3 columns]"
            ]
          },
          "metadata": {},
          "execution_count": 99
        }
      ]
    },
    {
      "cell_type": "markdown",
      "source": [
        "Split data in final_dataset into training and testing data"
      ],
      "metadata": {
        "id": "iQgcg8YQ57gD"
      }
    },
    {
      "cell_type": "code",
      "source": [
        "x = np.array(final_dataset['Salinity']).reshape(-1, 1)\n",
        "y = np.array(final_dataset['Temperature']).reshape(-1, 1)\n",
        "x,y"
      ],
      "metadata": {
        "id": "9yBTVoDy4mAE",
        "colab": {
          "base_uri": "https://localhost:8080/"
        },
        "outputId": "91c3dcfd-e516-44eb-f5f7-079646ccfcfa"
      },
      "execution_count": null,
      "outputs": [
        {
          "output_type": "execute_result",
          "data": {
            "text/plain": [
              "(array([[0.00112175],\n",
              "        [0.00109726],\n",
              "        [0.00111491],\n",
              "        ...,\n",
              "        [0.00109768],\n",
              "        [0.00112083],\n",
              "        [0.00110934]]), array([[0.00061815],\n",
              "        [0.0013818 ],\n",
              "        [0.001766  ],\n",
              "        ...,\n",
              "        [0.00163857],\n",
              "        [0.00077887],\n",
              "        [0.00157295]]))"
            ]
          },
          "metadata": {},
          "execution_count": 100
        }
      ]
    },
    {
      "cell_type": "code",
      "source": [
        "x_train, x_test, y_train, y_test = train_test_split(x, y, test_size = 0.20)"
      ],
      "metadata": {
        "id": "xWFuVksbEzmp"
      },
      "execution_count": null,
      "outputs": []
    },
    {
      "cell_type": "markdown",
      "source": [
        "#Linear Regression#"
      ],
      "metadata": {
        "id": "z8N7eXQD4hRz"
      }
    },
    {
      "cell_type": "markdown",
      "source": [
        "Fitting Linear Regression to the data"
      ],
      "metadata": {
        "id": "zJX_gEhWF1OY"
      }
    },
    {
      "cell_type": "code",
      "source": [
        "linreg_model = LinearRegression()\n",
        "linreg_model.fit(x_train,y_train)"
      ],
      "metadata": {
        "colab": {
          "base_uri": "https://localhost:8080/"
        },
        "id": "jopcrS42F207",
        "outputId": "ff8a8416-5aa6-4686-c068-fc8c957fa280"
      },
      "execution_count": null,
      "outputs": [
        {
          "output_type": "execute_result",
          "data": {
            "text/plain": [
              "LinearRegression()"
            ]
          },
          "metadata": {},
          "execution_count": 102
        }
      ]
    },
    {
      "cell_type": "markdown",
      "source": [
        "Predict water temperature based on salinity"
      ],
      "metadata": {
        "id": "AVWv33dSHHZC"
      }
    },
    {
      "cell_type": "code",
      "source": [
        "y_pred = linreg_model.predict(x_test)                                    "
      ],
      "metadata": {
        "id": "nwJYuTHsGpSp"
      },
      "execution_count": null,
      "outputs": []
    },
    {
      "cell_type": "markdown",
      "source": [
        "Checking accuracy of linear regression model"
      ],
      "metadata": {
        "id": "VkrzUrHuHSNM"
      }
    },
    {
      "cell_type": "code",
      "source": [
        "accuracy_score = linreg_model.score(x_test, y_test) \n",
        "print(\"Linear Regression Model Accuracy Score: \" + \"{:.3%}\".format(accuracy_score))\n",
        "print(\"Mean absolute error: %.8f\" % np.mean(np.absolute(y_pred - y_test)))\n",
        "print(\"Residual sum of squares (MSE): %.8f\" % np.mean((y_pred - y_test) ** 2))\n",
        "print(\"RMSE: %.8f\" % np.sqrt(np.mean((y_pred - y_test) ** 2)))\n",
        "print(\"R2-score: %.2f\" % r2_score(y_pred , y_test))\n",
        "print(\"Coefficients of the model:\", linreg_model.coef_)\n",
        "print(\"Intercept of the model: \", linreg_model.intercept_)"
      ],
      "metadata": {
        "colab": {
          "base_uri": "https://localhost:8080/"
        },
        "id": "MzSGStY8HWa-",
        "outputId": "da7c2b81-407e-414f-b704-2d414b551056"
      },
      "execution_count": null,
      "outputs": [
        {
          "output_type": "stream",
          "name": "stdout",
          "text": [
            "Linear Regression Model Accuracy Score: 30.361%\n",
            "Mean absolute error: 0.00024227\n",
            "Residual sum of squares (MSE): 0.00000010\n",
            "RMSE: 0.00032348\n",
            "R2-score: -1.68\n",
            "Coefficients of the model: [[-13.64094001]]\n",
            "Intercept of the model:  [0.01614541]\n"
          ]
        }
      ]
    },
    {
      "cell_type": "markdown",
      "source": [
        "Visualisation of linear regression model obtained using scatter plot"
      ],
      "metadata": {
        "id": "Z-Oqy6BmNkn_"
      }
    },
    {
      "cell_type": "code",
      "source": [
        "# Visualising the Linear Regression results\n",
        "plt.scatter(x_train, y_train, color = 'blue')\n",
        "plt.plot(x_train, linreg_model.predict(x_train), color = 'red')\n",
        "plt.title('Linear Regression')\n",
        "plt.xlabel('Salinity')\n",
        "plt.ylabel('Temperature')\n",
        "plt.show()\n"
      ],
      "metadata": {
        "colab": {
          "base_uri": "https://localhost:8080/",
          "height": 295
        },
        "id": "XXsod_KyNoZh",
        "outputId": "14218a85-dc7a-40f1-cff0-d6ea3c6a3ffc"
      },
      "execution_count": null,
      "outputs": [
        {
          "output_type": "display_data",
          "data": {
            "image/png": "[encoded data removed]",
            "text/plain": [
              "<Figure size 432x288 with 1 Axes>"
            ]
          },
          "metadata": {
            "needs_background": "light"
          }
        }
      ]
    },
    {
      "cell_type": "markdown",
      "source": [
        "#Polynomial Regression#"
      ],
      "metadata": {
        "id": "30_UQGilL0Hd"
      }
    },
    {
      "cell_type": "markdown",
      "source": [
        "Fitting Polynomial Regression to the data"
      ],
      "metadata": {
        "id": "1obMIpE3MVLJ"
      }
    },
    {
      "cell_type": "code",
      "source": [
        "polyreg_model = PolynomialFeatures(degree = 4)\n",
        "transform_poly = polyreg_model.fit_transform(x_train)\n",
        "\n",
        "linreg2 = LinearRegression()\n",
        "linreg2.fit(transform_poly,y_train)\n",
        "\n",
        "polynomial_predict = linreg2.predict(transform_poly)"
      ],
      "metadata": {
        "id": "s3GbzWGvL3Yk"
      },
      "execution_count": null,
      "outputs": []
    },
    {
      "cell_type": "markdown",
      "source": [
        "Checking accuracy of Polynomial regression model"
      ],
      "metadata": {
        "id": "3XHAWhOtP_xy"
      }
    },
    {
      "cell_type": "code",
      "source": [
        "rmse = np.sqrt(mean_squared_error(y_train,polynomial_predict))\n",
        "r2 = r2_score(y_train,polynomial_predict)\n",
        "print(\"RMSE Score for Test set: \" +\"{:.2}\".format(rmse))\n",
        "print(\"R2 Score for Test set: \" +\"{:.2}\".format(r2))"
      ],
      "metadata": {
        "colab": {
          "base_uri": "https://localhost:8080/"
        },
        "id": "92_8lTkxOn4s",
        "outputId": "c65da39f-ef2c-4545-b2f1-f403fd0b0308"
      },
      "execution_count": null,
      "outputs": [
        {
          "output_type": "stream",
          "name": "stdout",
          "text": [
            "RMSE Score for Test set: 0.00031\n",
            "R2 Score for Test set: 0.41\n"
          ]
        }
      ]
    },
    {
      "cell_type": "markdown",
      "source": [
        "Visualisation of polynomial regression model"
      ],
      "metadata": {
        "id": "NZh5SYF6QEqs"
      }
    },
    {
      "cell_type": "code",
      "source": [
        "# Visualising the Polynomial Regression results\n",
        "plt.scatter(x_train, y_train, color = 'blue')\n",
        "plt.plot(x_train, linreg2.predict(polyreg_model.fit_transform(x_train)), color = 'red')\n",
        "plt.title('Polynomial Regression')\n",
        "plt.xlabel('Salinity')\n",
        "plt.ylabel('Temperature')\n",
        "plt.show()"
      ],
      "metadata": {
        "colab": {
          "base_uri": "https://localhost:8080/",
          "height": 295
        },
        "id": "dBf2c9hAQJx2",
        "outputId": "ee88c65a-0c38-4972-aaf4-85bfa45ce5ea"
      },
      "execution_count": null,
      "outputs": [
        {
          "output_type": "display_data",
          "data": {
            "image/png": "[encoded data removed]",
            "text/plain": [
              "<Figure size 432x288 with 1 Axes>"
            ]
          },
          "metadata": {
            "needs_background": "light"
          }
        }
      ]
    },
    {
      "cell_type": "markdown",
      "source": [
        "#Saving the models#"
      ],
      "metadata": {
        "id": "tRxA7TltT3Pb"
      }
    },
    {
      "cell_type": "code",
      "source": [
        "import pickle\n",
        "\n",
        "Pkl_Filename1 = \"Linear_Regression_Model.pkl\"  \n",
        "with open(Pkl_Filename1, 'wb') as file:  \n",
        "    pickle.dump(linreg_model, file)\n",
        "\n",
        "Pkl_Filename2 = \"Polynomial_Regression_Model.pkl\"  \n",
        "with open(Pkl_Filename2, 'wb') as file:  \n",
        "    pickle.dump(polyreg_model, file)"
      ],
      "metadata": {
        "id": "GeNHyA03T7CH"
      },
      "execution_count": null,
      "outputs": []
    }
  ]
}