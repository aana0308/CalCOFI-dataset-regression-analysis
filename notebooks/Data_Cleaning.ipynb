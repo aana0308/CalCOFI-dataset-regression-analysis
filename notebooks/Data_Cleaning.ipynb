{
  "nbformat": 4,
  "nbformat_minor": 0,
  "metadata": {
    "colab": {
      "name": "Data Cleaning.ipynb",
      "provenance": [],
      "collapsed_sections": []
    },
    "kernelspec": {
      "name": "python3",
      "display_name": "Python 3"
    },
    "language_info": {
      "name": "python"
    }
  },
  "cells": [
    {
      "cell_type": "markdown",
      "source": [
        "#Data Cleaning#"
      ],
      "metadata": {
        "id": "AweEQdipCm11"
      }
    },
    {
      "cell_type": "markdown",
      "source": [
        "Importing the required Python libraries"
      ],
      "metadata": {
        "id": "cV9PD1LUCzty"
      }
    },
    {
      "cell_type": "code",
      "execution_count": null,
      "metadata": {
        "id": "Yw73SJWF-Tgh"
      },
      "outputs": [],
      "source": [
        "# load libaries\n",
        "import numpy as np\n",
        "import pandas as pd\n",
        "import matplotlib.pyplot as plt\n",
        "import seaborn as sns"
      ]
    },
    {
      "cell_type": "markdown",
      "source": [
        "Mount drive and load the CalCOFI dataset"
      ],
      "metadata": {
        "id": "joC5d4peC9-H"
      }
    },
    {
      "cell_type": "code",
      "source": [
        "from google.colab import drive\n",
        "drive.mount('/content/drive')"
      ],
      "metadata": {
        "id": "z4VUmCC3DMTK"
      },
      "execution_count": null,
      "outputs": []
    },
    {
      "cell_type": "code",
      "source": [
        "#load and display cast.csv\n",
        "d1 = pd.read_csv('https://raw.githubusercontent.com/aana0308/CalCOFI-dataset-regression-analysis/main/data/cast.csv')\n",
        "d1"
      ],
      "metadata": {
        "id": "3Mbgh7eFDZxp"
      },
      "execution_count": null,
      "outputs": []
    },
    {
      "cell_type": "code",
      "source": [
        "#load and display bottle.csv\n",
        "d2 = pd.read_csv('/content/drive/MyDrive/Data Analytics Club/CALCOFI regression analysis/bottle.csv')\n",
        "d2"
      ],
      "metadata": {
        "id": "mxvYWT4eEhPD"
      },
      "execution_count": null,
      "outputs": []
    },
    {
      "cell_type": "markdown",
      "source": [
        "Get information on the data available in both datasets provided"
      ],
      "metadata": {
        "id": "fsiKA4fXifnZ"
      }
    },
    {
      "cell_type": "code",
      "source": [
        "d1.info()"
      ],
      "metadata": {
        "id": "EueLsBqUE54P"
      },
      "execution_count": null,
      "outputs": []
    },
    {
      "cell_type": "code",
      "source": [
        "d2.info()"
      ],
      "metadata": {
        "id": "ir7aohZYFEq4"
      },
      "execution_count": null,
      "outputs": []
    },
    {
      "cell_type": "code",
      "source": [
        "d1.describe()"
      ],
      "metadata": {
        "id": "oyPFnBN-FKDJ"
      },
      "execution_count": null,
      "outputs": []
    },
    {
      "cell_type": "code",
      "source": [
        "d2.describe()"
      ],
      "metadata": {
        "id": "fTRH3iUvFXT9"
      },
      "execution_count": null,
      "outputs": []
    },
    {
      "cell_type": "markdown",
      "source": [
        "Since the problem statement is about the relation between temperature of the water and its salinity, we will make a separate dataset including only those 2 columns for convenience"
      ],
      "metadata": {
        "id": "C4rKaMmUin9W"
      }
    },
    {
      "cell_type": "code",
      "source": [
        "dataset = d2[['T_degC','Salnty']]\n",
        "dataset"
      ],
      "metadata": {
        "id": "rOVuPqPrGFU5"
      },
      "execution_count": null,
      "outputs": []
    },
    {
      "cell_type": "markdown",
      "source": [
        "Rename the columns appropriately"
      ],
      "metadata": {
        "id": "Y--TOhJ0jCGW"
      }
    },
    {
      "cell_type": "code",
      "source": [
        "dataset.columns = ['Temperature', 'Salinity']"
      ],
      "metadata": {
        "id": "W_ofIzt5HL51"
      },
      "execution_count": null,
      "outputs": []
    },
    {
      "cell_type": "markdown",
      "source": [
        "Check how many NULL values are there in dataset"
      ],
      "metadata": {
        "id": "7MJoLS8Vj2Fl"
      }
    },
    {
      "cell_type": "code",
      "source": [
        "dataset.isnull().sum()"
      ],
      "metadata": {
        "id": "mGWj70A0j6d-"
      },
      "execution_count": null,
      "outputs": []
    },
    {
      "cell_type": "markdown",
      "source": [
        "Drop NaN or missing input values"
      ],
      "metadata": {
        "id": "odc-ubY8k39c"
      }
    },
    {
      "cell_type": "code",
      "source": [
        "final_data = dataset.dropna()\n",
        "final_data.isnull().sum()"
      ],
      "metadata": {
        "id": "p5WS2aJ0k7xN"
      },
      "execution_count": null,
      "outputs": []
    },
    {
      "cell_type": "markdown",
      "source": [
        "Information about finally acquired dataset"
      ],
      "metadata": {
        "id": "g2Qmn8rBo9RT"
      }
    },
    {
      "cell_type": "code",
      "source": [
        "final_data.info()"
      ],
      "metadata": {
        "id": "EVaqi4V8pCKe"
      },
      "execution_count": null,
      "outputs": []
    },
    {
      "cell_type": "code",
      "source": [
        "final_data.describe()"
      ],
      "metadata": {
        "id": "kt5wLM0upO9f"
      },
      "execution_count": null,
      "outputs": []
    },
    {
      "cell_type": "markdown",
      "source": [
        "Check correlation between variables"
      ],
      "metadata": {
        "id": "_6JWuIVhtAcF"
      }
    },
    {
      "cell_type": "code",
      "source": [
        "final_data.corr()"
      ],
      "metadata": {
        "id": "1Aw6AVVxs_kS"
      },
      "execution_count": null,
      "outputs": []
    },
    {
      "cell_type": "markdown",
      "source": [
        ""
      ],
      "metadata": {
        "id": "wVIXULiW_ubb"
      }
    },
    {
      "cell_type": "markdown",
      "source": [
        "#Data visualisation#"
      ],
      "metadata": {
        "id": "jMkZI2qWjGZb"
      }
    },
    {
      "cell_type": "code",
      "source": [
        "sns.pairplot(data = final_data)"
      ],
      "metadata": {
        "id": "mraQ6XDcHa-N"
      },
      "execution_count": null,
      "outputs": []
    },
    {
      "cell_type": "markdown",
      "source": [
        "Normal distribution of data"
      ],
      "metadata": {
        "id": "XXgGn94CAGWS"
      }
    },
    {
      "cell_type": "code",
      "source": [
        "sns.distplot(final_data, hist=False)\n",
        "plt.show()"
      ],
      "metadata": {
        "id": "Mop2DElQAKRM"
      },
      "execution_count": null,
      "outputs": []
    },
    {
      "cell_type": "markdown",
      "source": [
        "#Save the finally obtained dataset#"
      ],
      "metadata": {
        "id": "gocvZtrsATuJ"
      }
    },
    {
      "cell_type": "markdown",
      "source": [
        "Save final_data dataframe as csv file"
      ],
      "metadata": {
        "id": "KB99T5BYvQEN"
      }
    },
    {
      "cell_type": "code",
      "source": [
        "final_data.to_csv('/content/drive/MyDrive/Data Analytics Club/CALCOFI regression analysis/final_dataset.csv')"
      ],
      "metadata": {
        "id": "iCL8hq8xvTzI"
      },
      "execution_count": null,
      "outputs": []
    }
  ]
}